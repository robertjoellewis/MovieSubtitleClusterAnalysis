{
 "cells": [
  {
   "cell_type": "code",
   "execution_count": 1,
   "metadata": {},
   "outputs": [],
   "source": [
    "import nltk"
   ]
  },
  {
   "cell_type": "code",
   "execution_count": 2,
   "metadata": {},
   "outputs": [],
   "source": [
    "import numpy as np\n",
    "import pandas as pd\n",
    "import nltk\n",
    "from bs4 import BeautifulSoup\n",
    "import re\n",
    "import os\n",
    "import codecs\n",
    "from sklearn import feature_extraction\n",
    "import mpld3"
   ]
  },
  {
   "cell_type": "code",
   "execution_count": 3,
   "metadata": {},
   "outputs": [],
   "source": [
    "stopwords = nltk.corpus.stopwords.words('english')"
   ]
  },
  {
   "cell_type": "code",
   "execution_count": 4,
   "metadata": {},
   "outputs": [],
   "source": [
    "from nltk.stem.snowball import SnowballStemmer\n",
    "stemmer = SnowballStemmer(\"english\")"
   ]
  },
  {
   "cell_type": "code",
   "execution_count": 5,
   "metadata": {},
   "outputs": [],
   "source": [
    "def tokenize_and_stem(text):\n",
    "    # first tokenize by sentence, then by word to ensure that punctuation is caught as it's own token\n",
    "    tokens = [word for sent in nltk.sent_tokenize(text) for word in nltk.word_tokenize(sent)]\n",
    "    filtered_tokens = []\n",
    "    # filter out any tokens not containing letters (e.g., numeric tokens, raw punctuation)\n",
    "    for token in tokens:\n",
    "        if re.search('[a-zA-Z]', token):\n",
    "            filtered_tokens.append(token)\n",
    "    stems = [stemmer.stem(t) for t in filtered_tokens]\n",
    "    return stems\n",
    "\n",
    "def tokenize_only(text):\n",
    "    # first tokenize by sentence, then by word to ensure that punctuation is caught as it's own token\n",
    "    tokens = [word.lower() for sent in nltk.sent_tokenize(text) for word in nltk.word_tokenize(sent)]\n",
    "    filtered_tokens = []\n",
    "    # filter out any tokens not containing letters (e.g., numeric tokens, raw punctuation)\n",
    "    for token in tokens:\n",
    "        if re.search('[a-zA-Z]', token):\n",
    "            filtered_tokens.append(token)\n",
    "    return filtered_tokens"
   ]
  },
  {
   "cell_type": "code",
   "execution_count": 6,
   "metadata": {},
   "outputs": [],
   "source": [
    "movieTextFileNames = []"
   ]
  },
  {
   "cell_type": "code",
   "execution_count": 7,
   "metadata": {},
   "outputs": [],
   "source": [
    "for filename in os.listdir('subs_CSV'):\n",
    "    contents = open('subs_CSV/' + filename, \"r\", encoding='utf-8', errors='ignore')\n",
    "    movieTextFileNames.append(filename)"
   ]
  },
  {
   "cell_type": "code",
   "execution_count": 8,
   "metadata": {},
   "outputs": [
    {
     "name": "stdout",
     "output_type": "stream",
     "text": [
      "['starwarsphantommenace.csv', 'cityofgod.csv', 'darkknight.csv', 'lotr_returnofking.csv', 'toystory3.csv', 'usualsuspects.csv', '.DS_Store', 'forrestgump.csv', 'harrypotterorderphoenix.csv', 'lotr_thehobbit.csv', 'shrek2.csv', 'piratesofcarib_atworldsend.csv', 'onceuponatimeinthewest.csv', 'inception.csv', 'piratesofcarib_onstrangertides.csv', 'thematrix.csv', 'darkknightrises.csv', 'twelveangrymen.csv', 'avatar.csv', 'starwars_empirestrikesback.csv', 'jurassicpark.csv', 'lotr_twotowers.csv', 'schindlerslist.csv', 'se7en.csv', 'casablanca.csv', 'transformers_darkmoon.csv', 'avengers.csv', 'findingnemo.csv', 'titanic.csv', 'skyfall.csv', 'godfather.csv', 'harrypotterhalfblood.csv', 'goodfellas.csv', 'lionking.csv', 'sevensamurai.csv', 'goodbadugly.csv', 'lotr_fellowship.csv', 'aliceinwonderland2010.csv', 'harrypotter7.csv', 'indianajones_raidersofthelostark.csv', 'harrypottersorcstone.csv', 'starwarsnewhope.csv', 'silenceofthelambs.csv', 'ironman3.csv', 'fightclub.csv', 'oneflewovercuckoosnest.csv', 'shawshank.csv', 'piratesofcarib_deadmanschest.csv', 'godfather2.csv', 'pulpfiction.csv', 'harrypotterdeathlyhallows2.csv']\n"
     ]
    }
   ],
   "source": [
    "print(movieTextFileNames)"
   ]
  },
  {
   "cell_type": "code",
   "execution_count": 9,
   "metadata": {},
   "outputs": [
    {
     "data": {
      "text/plain": [
       "'.DS_Store'"
      ]
     },
     "execution_count": 9,
     "metadata": {},
     "output_type": "execute_result"
    }
   ],
   "source": [
    "movieTextFileNames[6] #ugh I imported this file on accident, need to delete it"
   ]
  },
  {
   "cell_type": "code",
   "execution_count": 10,
   "metadata": {},
   "outputs": [],
   "source": [
    "movieTextFileNames.remove('.DS_Store')"
   ]
  },
  {
   "cell_type": "code",
   "execution_count": 11,
   "metadata": {},
   "outputs": [
    {
     "data": {
      "text/plain": [
       "50"
      ]
     },
     "execution_count": 11,
     "metadata": {},
     "output_type": "execute_result"
    }
   ],
   "source": [
    "len(movieTextFileNames) # should be 50 movie subtitle filenames without the dsstore file."
   ]
  },
  {
   "cell_type": "code",
   "execution_count": 12,
   "metadata": {},
   "outputs": [],
   "source": [
    "movieTexts = []\n",
    "for filename in movieTextFileNames:\n",
    "    contents = open('subs_CSV/' + filename, \"r\", encoding='utf-8', errors='ignore')\n",
    "    movieTexts.append(contents.read())"
   ]
  },
  {
   "cell_type": "code",
   "execution_count": 13,
   "metadata": {},
   "outputs": [
    {
     "data": {
      "text/plain": [
       "50"
      ]
     },
     "execution_count": 13,
     "metadata": {},
     "output_type": "execute_result"
    }
   ],
   "source": [
    "len(movieTexts)"
   ]
  },
  {
   "cell_type": "code",
   "execution_count": 14,
   "metadata": {},
   "outputs": [],
   "source": [
    "totalvocab_stemmed = []\n",
    "totalvocab_tokenized = []\n",
    "for movieText in movieTexts:\n",
    "    allwords_stemmed = tokenize_and_stem(movieText)\n",
    "    totalvocab_stemmed.extend(allwords_stemmed)\n",
    "    \n",
    "    allwords_tokenized = tokenize_only(movieText)\n",
    "    totalvocab_tokenized.extend(allwords_tokenized)"
   ]
  },
  {
   "cell_type": "code",
   "execution_count": 15,
   "metadata": {},
   "outputs": [],
   "source": [
    "vocab_frame = pd.DataFrame({'words': totalvocab_tokenized}, index = totalvocab_stemmed)"
   ]
  },
  {
   "cell_type": "code",
   "execution_count": 16,
   "metadata": {},
   "outputs": [
    {
     "name": "stdout",
     "output_type": "stream",
     "text": [
      "CPU times: user 25.2 s, sys: 253 ms, total: 25.4 s\n",
      "Wall time: 25.8 s\n",
      "(50, 2200)\n"
     ]
    }
   ],
   "source": [
    "from sklearn.feature_extraction.text import TfidfVectorizer\n",
    "\n",
    "tfidf_vectorizer = TfidfVectorizer(max_df=0.8, max_features=200000,\n",
    "                                 min_df=0.2, stop_words='english',\n",
    "                                 use_idf=True, tokenizer=tokenize_and_stem, ngram_range=(1,3))\n",
    "\n",
    "%time tfidf_matrix = tfidf_vectorizer.fit_transform(movieTexts)\n",
    "\n",
    "print(tfidf_matrix.shape)"
   ]
  },
  {
   "cell_type": "code",
   "execution_count": 17,
   "metadata": {},
   "outputs": [],
   "source": [
    "terms = tfidf_vectorizer.get_feature_names()"
   ]
  },
  {
   "cell_type": "code",
   "execution_count": 18,
   "metadata": {},
   "outputs": [],
   "source": [
    "from sklearn.metrics.pairwise import cosine_similarity\n",
    "dist = 1 - cosine_similarity(tfidf_matrix)"
   ]
  },
  {
   "cell_type": "code",
   "execution_count": 19,
   "metadata": {},
   "outputs": [
    {
     "name": "stdout",
     "output_type": "stream",
     "text": [
      "CPU times: user 1.06 s, sys: 41.6 ms, total: 1.1 s\n",
      "Wall time: 1.29 s\n"
     ]
    }
   ],
   "source": [
    "from sklearn.cluster import KMeans\n",
    "\n",
    "num_clusters = 4 # you can re-do this analysis, \n",
    "# choose different cluster numbers \n",
    "# and examine the silhouette and cluster assignments along with meta-data on each movie\n",
    "\n",
    "km = KMeans(n_clusters=num_clusters)\n",
    "\n",
    "%time km.fit(tfidf_matrix)\n",
    "\n",
    "clusters = km.labels_.tolist()"
   ]
  },
  {
   "cell_type": "code",
   "execution_count": 20,
   "metadata": {},
   "outputs": [
    {
     "name": "stdout",
     "output_type": "stream",
     "text": [
      "                  words\n",
      "long               long\n",
      "time               time\n",
      "ago                 ago\n",
      "in                   in\n",
      "a                     a\n",
      "galaxi           galaxy\n",
      "far                 far\n",
      "far                 far\n",
      "away               away\n",
      "captain         captain\n",
      "yes                 yes\n",
      "sir                 sir\n",
      "tell               tell\n",
      "them               them\n",
      "we                   we\n",
      "wish               wish\n",
      "to                   to\n",
      "board             board\n",
      "at                   at\n",
      "onc                once\n",
      "with               with\n",
      "all                 all\n",
      "due                 due\n",
      "respect         respect\n",
      "the                 the\n",
      "ambassador  ambassadors\n",
      "for                 for\n",
      "the                 the\n",
      "suprem          supreme\n",
      "chancellor   chancellor\n",
      "...                 ...\n",
      "you                 you\n",
      "you                 you\n",
      "can                 can\n",
      "choos            choose\n",
      "gryffindor   gryffindor\n",
      "the                 the\n",
      "sort            sorting\n",
      "hat                 hat\n",
      "take              takes\n",
      "your               your\n",
      "choic            choice\n",
      "into               into\n",
      "account         account\n",
      "realli           really\n",
      "realli           really\n",
      "bye                 bye\n",
      "mum                 mum\n",
      "all                 all\n",
      "aboard           aboard\n",
      "readi             ready\n",
      "readi             ready\n",
      "come               come\n",
      "on                   on\n",
      "jay                 jay\n",
      "get                 get\n",
      "a                     a\n",
      "move               move\n",
      "on                   on\n",
      "come               come\n",
      "on                   on\n",
      "\n",
      "[501834 rows x 1 columns]\n"
     ]
    }
   ],
   "source": [
    "print(vocab_frame)"
   ]
  },
  {
   "cell_type": "code",
   "execution_count": 21,
   "metadata": {},
   "outputs": [],
   "source": [
    "import pandas as pd\n",
    "\n",
    "films = { 'movieTextFileNames': movieTextFileNames, 'cluster': clusters }\n",
    "\n",
    "frame = pd.DataFrame(films, index = [clusters] , columns = ['movieTextFileNames', 'cluster'])"
   ]
  },
  {
   "cell_type": "code",
   "execution_count": 22,
   "metadata": {},
   "outputs": [
    {
     "data": {
      "text/plain": [
       "2    29\n",
       "3    10\n",
       "1     8\n",
       "0     3\n",
       "Name: cluster, dtype: int64"
      ]
     },
     "execution_count": 22,
     "metadata": {},
     "output_type": "execute_result"
    }
   ],
   "source": [
    "frame['cluster'].value_counts()"
   ]
  },
  {
   "cell_type": "code",
   "execution_count": 23,
   "metadata": {},
   "outputs": [],
   "source": [
    "grouped = frame['movieTextFileNames'].groupby(frame['cluster'])\n",
    "\n",
    "# grouped.mean() # use this once you open the meta-data (eg, audience ratings)"
   ]
  },
  {
   "cell_type": "code",
   "execution_count": 24,
   "metadata": {},
   "outputs": [
    {
     "name": "stdout",
     "output_type": "stream",
     "text": [
      "<pandas.core.groupby.groupby.SeriesGroupBy object at 0x1a13b97ac8>\n"
     ]
    }
   ],
   "source": [
    "print(grouped)"
   ]
  },
  {
   "cell_type": "code",
   "execution_count": 25,
   "metadata": {},
   "outputs": [
    {
     "name": "stdout",
     "output_type": "stream",
     "text": [
      "Top terms per cluster:\n",
      "\n",
      "Cluster 0 words: b'sam', b'ring', b'merry', b'yells', b'king', b'precious',\n",
      "\n",
      "Cluster 0 titles: lotr_returnofking.csv, lotr_twotowers.csv, lotr_fellowship.csv,\n",
      "\n",
      "Cluster 1 words: b'fuck', b'shit', b'guys', b'wan', b'wan', b'mr.',\n",
      "\n",
      "Cluster 1 titles: cityofgod.csv, usualsuspects.csv, se7en.csv, goodfellas.csv, fightclub.csv, oneflewovercuckoosnest.csv, shawshank.csv, pulpfiction.csv,\n",
      "\n",
      "Cluster 2 words: b'okay', b'jacked', b'ships', b'guys', b'captain', b'mr.',\n",
      "\n",
      "Cluster 2 titles: starwarsphantommenace.csv, darkknight.csv, toystory3.csv, forrestgump.csv, lotr_thehobbit.csv, piratesofcarib_atworldsend.csv, onceuponatimeinthewest.csv, inception.csv, piratesofcarib_onstrangertides.csv, thematrix.csv, darkknightrises.csv, twelveangrymen.csv, avatar.csv, starwars_empirestrikesback.csv, jurassicpark.csv, schindlerslist.csv, casablanca.csv, transformers_darkmoon.csv, avengers.csv, titanic.csv, skyfall.csv, sevensamurai.csv, goodbadugly.csv, indianajones_raidersofthelostark.csv, starwarsnewhope.csv, silenceofthelambs.csv, ironman3.csv, piratesofcarib_deadmanschest.csv, godfather2.csv,\n",
      "\n",
      "Cluster 3 words: b'dad', b'tom', b'okay', b'king', b'lord', b'magic',\n",
      "\n",
      "Cluster 3 titles: harrypotterorderphoenix.csv, shrek2.csv, findingnemo.csv, godfather.csv, harrypotterhalfblood.csv, lionking.csv, aliceinwonderland2010.csv, harrypotter7.csv, harrypottersorcstone.csv, harrypotterdeathlyhallows2.csv,\n",
      "\n"
     ]
    }
   ],
   "source": [
    "from __future__ import print_function\n",
    "\n",
    "print(\"Top terms per cluster:\")\n",
    "print()\n",
    "order_centroids = km.cluster_centers_.argsort()[:, ::-1]\n",
    "for i in range(num_clusters):\n",
    "    print(\"Cluster %d words:\" % i, end='')\n",
    "    for ind in order_centroids[i, :6]:\n",
    "        print(' %s' % vocab_frame.loc[terms[ind].split(' ')].values.tolist()[0][0].encode('utf-8', 'ignore'), end=',')\n",
    "    print()\n",
    "    print()\n",
    "    print(\"Cluster %d titles:\" % i, end='')\n",
    "    for title in frame.loc[i]['movieTextFileNames'].values.tolist():\n",
    "        print(' %s,' % title, end='')\n",
    "    print()\n",
    "    print()"
   ]
  },
  {
   "cell_type": "code",
   "execution_count": 26,
   "metadata": {},
   "outputs": [],
   "source": [
    "# to visualize clusters, we need to use multi-dimensional scaling to project \n",
    "# multi-dimensional data to two\n",
    "\n",
    "import os  # for os.path.basename\n",
    "\n",
    "import matplotlib.pyplot as plt\n",
    "import matplotlib as mpl\n",
    "\n",
    "from sklearn.manifold import MDS\n",
    "\n",
    "MDS()\n",
    "\n",
    "# two components as we're plotting points in a two-dimensional plane\n",
    "# \"precomputed\" because we provide a distance matrix\n",
    "# we will also specify `random_state` so the plot is reproducible.\n",
    "mds = MDS(n_components=2, dissimilarity=\"precomputed\", random_state=1)\n",
    "\n",
    "pos = mds.fit_transform(dist)  # shape (n_components, n_samples)\n",
    "\n",
    "xs, ys = pos[:, 0], pos[:, 1]"
   ]
  },
  {
   "cell_type": "code",
   "execution_count": 27,
   "metadata": {},
   "outputs": [],
   "source": [
    "#strip any proper nouns (NNP) or plural proper nouns (NNPS) from a text\n",
    "from nltk.tag import pos_tag\n",
    "\n",
    "def strip_proppers_POS(text):\n",
    "    tagged = pos_tag(text.split()) #use NLTK's part of speech tagger\n",
    "    non_propernouns = [word for word,pos in tagged if pos != 'NNP' and pos != 'NNPS']\n",
    "    return non_propernouns"
   ]
  },
  {
   "cell_type": "code",
   "execution_count": 28,
   "metadata": {},
   "outputs": [],
   "source": [
    "#set up colors per clusters using a dict\n",
    "cluster_colors = {0: '#1b9e77', 1: '#d95f02', 2: '#7570b3', 3: '#e7298a', 4: '#66a61e'}\n",
    "# add more colors if you want more clusters\n",
    "\n",
    "#set up cluster names using a dict\n",
    "cluster_names = {0: 'cluster 1', \n",
    "                 1: 'cluster 2', \n",
    "                 2: 'cluster 3', \n",
    "                 3: 'cluster 4'}"
   ]
  },
  {
   "cell_type": "code",
   "execution_count": 29,
   "metadata": {},
   "outputs": [],
   "source": [
    "%matplotlib inline"
   ]
  },
  {
   "cell_type": "code",
   "execution_count": 30,
   "metadata": {
    "scrolled": true
   },
   "outputs": [
    {
     "data": {
      "image/png": "[encoded data removed]",
      "text/plain": [
       "<Figure size 1224x648 with 1 Axes>"
      ]
     },
     "metadata": {},
     "output_type": "display_data"
    }
   ],
   "source": [
    "#create data frame that has the result of the MDS plus the cluster numbers and titles\n",
    "df = pd.DataFrame(dict(x=xs, y=ys, label=clusters, title=movieTextFileNames)) \n",
    "\n",
    "#group by cluster\n",
    "groups = df.groupby('label')\n",
    "\n",
    "\n",
    "# set up plot\n",
    "fig, ax = plt.subplots(figsize=(17, 9)) # set size\n",
    "ax.margins(0.05) # Optional, just adds 5% padding to the autoscaling\n",
    "\n",
    "#iterate through groups to layer the plot\n",
    "#note that I use the cluster_name and cluster_color dicts with the 'name' lookup to return the appropriate color/label\n",
    "for name, group in groups:\n",
    "    ax.plot(group.x, group.y, marker='o', linestyle='', ms=12, label=cluster_names[name], color=cluster_colors[name], mec='none')\n",
    "    ax.set_aspect('auto')\n",
    "    ax.tick_params(\\\n",
    "        axis= 'x',          # changes apply to the x-axis\n",
    "        which='both',      # both major and minor ticks are affected\n",
    "        bottom=False,      # ticks along the bottom edge are off\n",
    "        top=False,         # ticks along the top edge are off\n",
    "        labelbottom=False)\n",
    "    ax.tick_params(\\\n",
    "        axis= 'y',         # changes apply to the y-axis\n",
    "        which='both',      # both major and minor ticks are affected\n",
    "        left=False,      # ticks along the bottom edge are off\n",
    "        top=False,         # ticks along the top edge are off\n",
    "        labelleft=False)\n",
    "    \n",
    "ax.legend(numpoints=1)  #show legend with only 1 point\n",
    "\n",
    "#add label in x,y position with the label as the film title\n",
    "for i in range(len(df)):\n",
    "    ax.text(df.loc[i]['x'], df.loc[i]['y'], df.loc[i]['title'], size=8)  \n",
    "\n",
    "    \n",
    "    \n",
    "plt.show() #show the plot\n",
    "\n",
    "#uncomment the below to save the plot if need be\n",
    "#plt.savefig('clusters_small_noaxes.png', dpi=200)"
   ]
  },
  {
   "cell_type": "code",
   "execution_count": null,
   "metadata": {},
   "outputs": [],
   "source": []
  }
 ],
 "metadata": {
  "kernelspec": {
   "display_name": "Python 3",
   "language": "python",
   "name": "python3"
  },
  "language_info": {
   "codemirror_mode": {
    "name": "ipython",
    "version": 3
   },
   "file_extension": ".py",
   "mimetype": "text/x-python",
   "name": "python",
   "nbconvert_exporter": "python",
   "pygments_lexer": "ipython3",
   "version": "3.6.5"
  }
 },
 "nbformat": 4,
 "nbformat_minor": 2
}
